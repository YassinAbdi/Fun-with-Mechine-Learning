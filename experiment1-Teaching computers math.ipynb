{
 "cells": [
  {
   "cell_type": "markdown",
   "metadata": {},
   "source": [
    "Abstract:\n",
    "    Over the last couple of decades mechine learning as became a techinology that has proven itself a useful tools for science. For example scientist at National Aeronotics and Space Agency(NASA) have used machine learning to detect exoplants form the data retrived  Kepler sattilite. This and other example of remarkable achivements by industry makes mechine learning one of the most studied topics of our time. In this expiment the hope is to build a mechine learning aligrothium that learns how to do basic math. Starting with addition and ending with diviation the goal is to write a simple mathatical statement like 1+1 and expect the algrothium to return 2 with high confidence.My hypothsis is that with every addition of a class of operation the algortiums confidence will decrease proptionally."
   ]
  },
  {
   "cell_type": "markdown",
   "metadata": {},
   "source": [
    "Introduction:\n",
    "    This experiment isnt planning to use any mechine learning tools.although there are a pluria of tools for mechine learning out there such TensorFlow. TensorFlow was design and maintained by the Alphabet cooperation since novermeber,9th,2015. And is a good starting point for anyone who is planning to do production grade mechine learning aligrothiums for industry. However it is more partical and scientifical sound to build a mechine learning algrotium from fundumental calculus for the sake of controlling all the variables of the experiment. mechine learning began in the late 40's by computer scientist ....."
   ]
  },
  {
   "cell_type": "markdown",
   "metadata": {},
   "source": [
    "Method:\n",
    "    .....\n",
    "Addition:\n",
    "    \n",
    "    "
   ]
  },
  {
   "cell_type": "code",
   "execution_count": 6,
   "metadata": {},
   "outputs": [],
   "source": [
    "import math\n",
    "class Neuron():\n",
    "    def __init__(self,row,colum):\n",
    "        self.row = row\n",
    "        self.colum = colum\n",
    "        self.value = 0\n",
    "        self.bias = 10\n",
    "    def sigmoid(self,x):\n",
    "        self.value = 1/(1+math.exp(x))\n",
    "        \n",
    "        "
   ]
  },
  {
   "cell_type": "code",
   "execution_count": 7,
   "metadata": {},
   "outputs": [],
   "source": [
    "class Wieght():\n",
    "    def __init__(self,row,backwardNeuron,forwardNeuron):\n",
    "        self.row = row\n",
    "        self.colum = colum\n",
    "        self.value = 0\n",
    "        self.backwardNeuron = backwardNeuron\n",
    "        self.forwardNeuron = forwardNeuron"
   ]
  },
  {
   "cell_type": "code",
   "execution_count": 12,
   "metadata": {},
   "outputs": [
    {
     "name": "stdout",
     "output_type": "stream",
     "text": [
      "0.11920292202211755\n"
     ]
    }
   ],
   "source": [
    "\n"
   ]
  }
 ],
 "metadata": {
  "kernelspec": {
   "display_name": "Python 3",
   "language": "python",
   "name": "python3"
  },
  "language_info": {
   "codemirror_mode": {
    "name": "ipython",
    "version": 3
   },
   "file_extension": ".py",
   "mimetype": "text/x-python",
   "name": "python",
   "nbconvert_exporter": "python",
   "pygments_lexer": "ipython3",
   "version": "3.6.4"
  }
 },
 "nbformat": 4,
 "nbformat_minor": 2
}
