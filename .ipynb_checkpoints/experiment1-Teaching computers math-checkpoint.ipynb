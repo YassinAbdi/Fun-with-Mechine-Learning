{
 "cells": [
  {
   "cell_type": "markdown",
   "metadata": {},
   "source": [
    "Abstract:\n",
    "    Over the last couple of decades mechine learning as became a techinology that has proven itself a useful tools for science. For example scientist at National Aeronotics and Space Agency(NASA) have used machine learning to detect exoplants form the data retrived  Kepler sattilite. This and other example of remarkable achivements by industry makes mechine learning one of the most studied topics of our time. In this expiment the hope is to build a mechine learning aligrothium that learns how to do basic math. Starting with addition and ending with diviation the goal is to write a simple mathatical statement like 1+1 and expect the algrothium to return 2 with high confidence.My hypothsis is that with every addition of a class of operation the algortiums confidence will decrease proptionally."
   ]
  },
  {
   "cell_type": "markdown",
   "metadata": {},
   "source": [
    "Introduction:\n",
    "    This experiment isnt planning to use any mechine learning tools.although there are a pluria of tools for mechine learning out there such TensorFlow. TensorFlow was design and maintained by the Alphabet cooperation since novermeber,9th,2015. And is a good starting point for anyone who is planning to do production grade mechine learning aligrothiums for industry. However it is more partical and scientifical sound to build a mechine learning algrotium from fundumental calculus for the sake of controlling all the variables of the experiment. mechine learning began in the late 40's by computer scientist ....."
   ]
  },
  {
   "cell_type": "markdown",
   "metadata": {},
   "source": [
    "Method:\n",
    "    .....\n",
    "Addition:\n",
    "    \n",
    "    "
   ]
  },
  {
   "cell_type": "code",
   "execution_count": null,
   "metadata": {},
   "outputs": [],
   "source": []
  },
  {
   "cell_type": "code",
   "execution_count": 15,
   "metadata": {},
   "outputs": [
    {
     "name": "stdout",
     "output_type": "stream",
     "text": [
      "None\n"
     ]
    }
   ],
   "source": [
    "import math\n",
    "import random\n",
    "import numpy as np\n",
    "\n",
    "class NeuralNetwork():\n",
    "    def __init__(self):\n",
    "        #hyperparmeters\n",
    "        self.inputlayernodes = 2\n",
    "        self.hiddenlayernodes = 3\n",
    "        self.outputlayernodes = 1\n",
    "        \n",
    "        #weights\n",
    "        self.w1 = np.random.randn(self.inputlayernodes,self.hiddenlayernodes)\n",
    "        self.w2 = np.random.randn(self.hiddenlayernodes,self.outputlayernodes)\n",
    "\n",
    "    def forward(self,x):\n",
    "        #hidden layer value\n",
    "        self.h2 = np.dot(x, self.w1)\n",
    "        #activate hidden layer\n",
    "        self.a2 = self.sig(self.h2)\n",
    "        #output value\n",
    "        self.outvalue = np.dot(self.a2,self.w2)\n",
    "        #output activation\n",
    "        out = self.sig(self.outvalue)\n",
    "        return out\n",
    "    def sig(self,x):\n",
    "        return 1/(1+np.exp(-x))\n",
    "n = NeuralNetwork()\n",
    "x= np.random.randn(3,2)\n",
    "print(n.forward(x))"
   ]
  },
  {
   "cell_type": "code",
   "execution_count": null,
   "metadata": {},
   "outputs": [],
   "source": []
  }
 ],
 "metadata": {
  "kernelspec": {
   "display_name": "Python 3",
   "language": "python",
   "name": "python3"
  },
  "language_info": {
   "codemirror_mode": {
    "name": "ipython",
    "version": 3
   },
   "file_extension": ".py",
   "mimetype": "text/x-python",
   "name": "python",
   "nbconvert_exporter": "python",
   "pygments_lexer": "ipython3",
   "version": "3.6.4"
  }
 },
 "nbformat": 4,
 "nbformat_minor": 2
}
